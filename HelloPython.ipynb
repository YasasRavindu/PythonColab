{
  "nbformat": 4,
  "nbformat_minor": 0,
  "metadata": {
    "colab": {
      "provenance": [],
      "toc_visible": true,
      "authorship_tag": "ABX9TyOfR08lfG0mzCcEdK7XZNxL",
      "include_colab_link": true
    },
    "kernelspec": {
      "name": "python3",
      "display_name": "Python 3"
    },
    "language_info": {
      "name": "python"
    }
  },
  "cells": [
    {
      "cell_type": "markdown",
      "metadata": {
        "id": "view-in-github",
        "colab_type": "text"
      },
      "source": [
        "<a href=\"https://colab.research.google.com/github/YasasRavindu/PythonColab/blob/main/HelloPython.ipynb\" target=\"_parent\"><img src=\"https://colab.research.google.com/assets/colab-badge.svg\" alt=\"Open In Colab\"/></a>"
      ]
    },
    {
      "cell_type": "code",
      "source": [
        "spam_amount = 0\n",
        "print(spam_amount)\n",
        "\n",
        "# Ordering Spam, egg, Spam, Spam, bacon and Spam (4 more servings of Spam)\n",
        "spam_amount = spam_amount + 4\n",
        "if spam_amount > 0:\n",
        "     print(\"But I don't want ANY spam!\")\n",
        "     print(\"BI m line 2\")\n",
        "\n",
        "viking_song = \"Spam \" * spam_amount\n",
        "print(viking_song)\n",
        "\n",
        "spam_amount = 0\n",
        "mil=0.1;\n",
        "type(mil)\n",
        "\n",
        "# type(19.95)\n",
        "\n",
        "print(5 / 2)\n",
        "print(6 / 2)\n",
        "print(5 // 2)\n",
        "print(6 // 2)\n"
      ],
      "metadata": {
        "colab": {
          "base_uri": "https://localhost:8080/"
        },
        "id": "QpFnSPwecU44",
        "outputId": "27f2a2a4-6325-4239-d2f0-2d7fec170f8b"
      },
      "execution_count": null,
      "outputs": [
        {
          "output_type": "stream",
          "name": "stdout",
          "text": [
            "0\n",
            "But I don't want ANY spam!\n",
            "BI m line 2\n",
            "Spam Spam Spam Spam \n",
            "2.5\n",
            "3.0\n",
            "2\n",
            "3\n"
          ]
        }
      ]
    },
    {
      "cell_type": "code",
      "source": [
        "a =10\n",
        "b=10\n",
        "\n",
        "print(a ** b)"
      ],
      "metadata": {
        "colab": {
          "base_uri": "https://localhost:8080/"
        },
        "id": "FN9ZiSUkrHnF",
        "outputId": "d0ee8220-dfb1-4182-9253-a08bb4e28685"
      },
      "execution_count": null,
      "outputs": [
        {
          "output_type": "stream",
          "name": "stdout",
          "text": [
            "10000000000\n"
          ]
        }
      ]
    },
    {
      "cell_type": "code",
      "source": [
        "def calFunc(num1,num2):\n",
        "      print(num1)\n",
        "      print(num2)\n",
        "      return num1+num2;\n",
        "\n",
        "\n",
        "print (calFunc(10,20))"
      ],
      "metadata": {
        "colab": {
          "base_uri": "https://localhost:8080/"
        },
        "id": "vHn6XUtb8YM6",
        "outputId": "484026cb-ff7b-43e4-d276-69f2097ba573"
      },
      "execution_count": null,
      "outputs": [
        {
          "output_type": "stream",
          "name": "stdout",
          "text": [
            "10\n",
            "20\n",
            "30\n"
          ]
        }
      ]
    },
    {
      "cell_type": "markdown",
      "source": [
        "Functions"
      ],
      "metadata": {
        "id": "V1v_6InmDnr-"
      }
    },
    {
      "cell_type": "code",
      "source": [
        "# help(round(-2.01))\n",
        "print(\"My\",\"Name\",\"   hello marli\",  flush=True)\n"
      ],
      "metadata": {
        "colab": {
          "base_uri": "https://localhost:8080/"
        },
        "id": "mIczS0NfDp8k",
        "outputId": "2ed234df-8327-40ad-84bb-2a221be6d8be"
      },
      "execution_count": null,
      "outputs": [
        {
          "output_type": "stream",
          "name": "stdout",
          "text": [
            "My Name    hello marli\n"
          ]
        }
      ]
    },
    {
      "cell_type": "code",
      "source": [
        "\n",
        "#  docstrings : to explain about the function, whe you use help method\n",
        "\n",
        "def least_difference(a , b , c):\n",
        "  \"\"\"Return the smallest difference between any two numbers\n",
        "  among a, b and c.\n",
        "  >>> least_difference(1, 5, -5)\n",
        "  4\n",
        "  \"\"\"\n",
        "  diff1 = abs(a-b)\n",
        "  diff2 = abs(b-c)\n",
        "  diff3 = abs(a-c)\n",
        "  return min(diff1,diff2,diff3)\n",
        "\n",
        "print(\n",
        "  least_difference(1,10,100),\n",
        "  least_difference(1,10,10),\n",
        "  least_difference(5,6,7)\n",
        ")\n",
        "\n",
        "\n",
        "help(least_difference)\n",
        "\n",
        "# None means null in other langs\n",
        "print(hel_str)\n",
        "print(hel_str == None)\n",
        "\n",
        "\n",
        "# Use of default arguments\n",
        "\n",
        "print(1,2,3,sep = \" # \")\n",
        "\n",
        "# without default argument\n",
        "print(1,2,3)\n",
        "\n",
        "# without default argument for non separate by space\n",
        "print(1,2,3,sep='')\n",
        "\n",
        "\n",
        "def greet(who=\"Carl\"):\n",
        "  print(\"Hellow \",who)\n",
        "\n",
        "greet(\"Marli\")\n",
        "#  default value scenario\n",
        "greet()\n",
        "greet(\"Raveen\")\n",
        "\n",
        "\n",
        "\n",
        "# higher order functions -  functions who accept other functions as arguments or return them as results\n",
        "def mod_5(x):\n",
        "    return x % 5\n",
        "\n",
        "\n",
        "print(\n",
        "    \"Maximum value of Number range = \",\n",
        "    max(100, 14, 51),\n",
        "    \"the number with largest modulo \",\n",
        "    max([100, 14, 51], key=mod_5),\n",
        "    sep=\"\\n\",\n",
        ")\n",
        "\n",
        "#\n",
        "\n",
        "def mult_by_five(x):\n",
        "    return 5 * x\n",
        "\n",
        "def call(fn, arg):\n",
        "    \"\"\"Call fn on arg\"\"\"\n",
        "    return fn(arg)\n",
        "\n",
        "\n",
        "print(\n",
        "    call(mult_by_five, 1),sep=\"\\n\"\n",
        ")\n",
        "\n",
        "\n"
      ],
      "metadata": {
        "colab": {
          "base_uri": "https://localhost:8080/",
          "height": 367
        },
        "id": "oboHBDIZGwiW",
        "outputId": "c2038773-aa97-42a5-e111-83d2bfd6a1bb"
      },
      "execution_count": null,
      "outputs": [
        {
          "output_type": "stream",
          "name": "stdout",
          "text": [
            "9 0 1\n",
            "Help on function least_difference in module __main__:\n",
            "\n",
            "least_difference(a, b, c)\n",
            "    Return the smallest difference between any two numbers\n",
            "    among a, b and c.\n",
            "    >>> least_difference(1, 5, -5)\n",
            "    4\n",
            "\n"
          ]
        },
        {
          "output_type": "error",
          "ename": "NameError",
          "evalue": "name 'hel_str' is not defined",
          "traceback": [
            "\u001b[0;31m---------------------------------------------------------------------------\u001b[0m",
            "\u001b[0;31mNameError\u001b[0m                                 Traceback (most recent call last)",
            "\u001b[0;32m<ipython-input-1-11a9f5531635>\u001b[0m in \u001b[0;36m<cell line: 0>\u001b[0;34m()\u001b[0m\n\u001b[1;32m     22\u001b[0m \u001b[0;34m\u001b[0m\u001b[0m\n\u001b[1;32m     23\u001b[0m \u001b[0;31m# None means null in other langs\u001b[0m\u001b[0;34m\u001b[0m\u001b[0;34m\u001b[0m\u001b[0m\n\u001b[0;32m---> 24\u001b[0;31m \u001b[0mprint\u001b[0m\u001b[0;34m(\u001b[0m\u001b[0mhel_str\u001b[0m\u001b[0;34m)\u001b[0m\u001b[0;34m\u001b[0m\u001b[0;34m\u001b[0m\u001b[0m\n\u001b[0m\u001b[1;32m     25\u001b[0m \u001b[0mprint\u001b[0m\u001b[0;34m(\u001b[0m\u001b[0mhel_str\u001b[0m \u001b[0;34m==\u001b[0m \u001b[0;32mNone\u001b[0m\u001b[0;34m)\u001b[0m\u001b[0;34m\u001b[0m\u001b[0;34m\u001b[0m\u001b[0m\n\u001b[1;32m     26\u001b[0m \u001b[0;34m\u001b[0m\u001b[0m\n",
            "\u001b[0;31mNameError\u001b[0m: name 'hel_str' is not defined"
          ]
        }
      ]
    },
    {
      "cell_type": "markdown",
      "source": [
        "Boolean Conditions"
      ],
      "metadata": {
        "id": "0fMOCozyQRX1"
      }
    },
    {
      "cell_type": "code",
      "source": [
        "def sign(num):\n",
        "   if num < 0:\n",
        "     return -1\n",
        "   elif num > 0:\n",
        "     return 1\n",
        "   else:\n",
        "     return 0\n",
        "\n",
        "print(sign(10))\n",
        "print(sign(-10))\n",
        "print(sign(0))\n"
      ],
      "metadata": {
        "colab": {
          "base_uri": "https://localhost:8080/"
        },
        "id": "zxJpbGP6QfsM",
        "outputId": "7719fe4d-9f19-441a-e78e-a308d70c538e"
      },
      "execution_count": null,
      "outputs": [
        {
          "output_type": "stream",
          "name": "stdout",
          "text": [
            "1\n",
            "-1\n",
            "0\n"
          ]
        }
      ]
    },
    {
      "cell_type": "code",
      "source": [
        "Lists"
      ],
      "metadata": {
        "id": "cGiJMeYeqckc"
      },
      "execution_count": null,
      "outputs": []
    },
    {
      "cell_type": "code",
      "source": [
        "#  List Theories\n",
        "hands = [\n",
        "    [\"J\", \"Q\", \"K\"],\n",
        "    [\"2\", \"2\", \"2\"],\n",
        "    [\"6\", \"A\", \"K\"],  # (Comma after the last element is optional)\n",
        "]\n",
        "# hands = [[\"J\", \"Q\", \"K\"], [\"2\", \"2\", \"2\"], [\"6\", \"A\", \"K\"],] # (Comma after the last element is optional)\n",
        "\n",
        "my_favorite = [1, \" My Love\", hands, 3.14, True,abs]\n",
        "print(my_favorite)\n",
        "\n",
        "print(my_favorite[0])\n",
        "print(my_favorite[1])\n",
        "print(my_favorite[2])\n",
        "print(my_favorite[3])\n",
        "print(my_favorite[4])\n",
        "print(my_favorite[5])\n",
        "\n",
        "# Printing furthest planets\n",
        "planets = [\"Mercury\", \"Venus\", \"Earth\", \"Mars\", \"Jupiter\", \"Saturn\", \"Uranus\", \"Neptune\"]\n",
        "\n",
        "# print(planets[len(planets) -1])\n",
        "print(planets[-1])\n",
        "print(planets[-2])\n",
        "print(planets[-3])\n",
        "print(planets[-4])\n",
        "print(planets[-5])\n",
        "print(planets[-6])\n",
        "print(planets[-7])\n",
        "print(planets[-8])\n",
        "\n",
        "# Slicing\n",
        "# to get last items in list, you can use - indexes\n",
        "\n",
        "# first_three_planet = planets[-3:-1]\n",
        "# first_three_planet = planets[:10]\n",
        "first_three_planet = planets[:3]\n",
        "print(first_three_planet)\n",
        "\n",
        "\n",
        "slicing_example = planets[1:]\n",
        "print(slicing_example)\n",
        "# answer is ['Venus', 'Earth', 'Mars', 'Jupiter', 'Saturn', 'Uranus', 'Neptune']\n",
        "\n",
        "# Changing the values of list\n",
        "planets[:3]=[\"M\",\"V\",\"E\"]\n",
        "print(planets)\n",
        "\n",
        "planets[:3]=[\"Mercury\",\"Venus\",\"Earth\"]\n",
        "print(planets)\n",
        "\n",
        "# List Functions\n",
        "\n",
        "print(\"Length of Planets = \", len(planets))\n",
        "print(\"Sorted  Planets = \", sorted(planets))\n",
        "\n",
        "#  List Aggregate operations\n",
        "\n",
        "primes = [2, 3, 5, 7]\n",
        "print(\"Sum of Ints = \", sum(primes))\n",
        "print(\"Maximum of Ints = \", max(primes))\n",
        "\n",
        "# Interlude Objects\n",
        "\n",
        "x = 12;\n",
        "print(x.imag)\n",
        "\n",
        "c = 12 + 3j\n",
        "print(c.imag)\n",
        "\n",
        "#  below is showing like API if you are using this function without parenthesis\n",
        "num_bit= x.bit_length\n",
        "print(num_bit)\n",
        "# with parenthesis\n",
        "\n",
        "print(x.bit_length())\n",
        "\n",
        "# help(x.bit_length)\n",
        "\n",
        "planets.append(\"Pluto\")\n",
        "\n",
        "help(planets.append)\n",
        "print(planets)\n",
        "\n",
        "# pop method will remove and return last item\n",
        "\n",
        "print(planets.pop())\n",
        "print(planets)\n",
        "\n",
        "print(planets.index(\"Earth\"))\n",
        "\n",
        "# Current list of planets\n",
        "print(planets)\n",
        "if 'Earth' in planets:\n",
        "    print(\"Yes\")\n",
        "else:\n",
        "    print(\"No\")\n",
        "\n",
        "# to see all the list object's methods and attribute\n",
        "# help(planets)\n",
        "\n",
        "# Tuple\n",
        "\n",
        "mytuple=(1,\"string\", True)\n",
        "mytuple=(1,\"string\", True)\n",
        "\n",
        "print(mytuple)\n",
        "\n",
        "x=0.125\n",
        "print(x.as_integer_ratio())\n",
        "\n",
        "numerator,denominator =x.as_integer_ratio()\n",
        "print(\"numerator\",numerator,\"\\ndenominator\",denominator)\n",
        "\n",
        "\n",
        "\n"
      ],
      "metadata": {
        "colab": {
          "base_uri": "https://localhost:8080/"
        },
        "id": "KxwPMCt1qdsW",
        "outputId": "6646c8b4-0233-4f68-d55b-516d2f8b7f9b"
      },
      "execution_count": null,
      "outputs": [
        {
          "output_type": "stream",
          "name": "stdout",
          "text": [
            "[1, ' My Love', [['J', 'Q', 'K'], ['2', '2', '2'], ['6', 'A', 'K']], 3.14, True, <built-in function abs>]\n",
            "1\n",
            " My Love\n",
            "[['J', 'Q', 'K'], ['2', '2', '2'], ['6', 'A', 'K']]\n",
            "3.14\n",
            "True\n",
            "<built-in function abs>\n",
            "Neptune\n",
            "Uranus\n",
            "Saturn\n",
            "Jupiter\n",
            "Mars\n",
            "Earth\n",
            "Venus\n",
            "Mercury\n",
            "['Mercury', 'Venus', 'Earth']\n",
            "['Venus', 'Earth', 'Mars', 'Jupiter', 'Saturn', 'Uranus', 'Neptune']\n",
            "['M', 'V', 'E', 'Mars', 'Jupiter', 'Saturn', 'Uranus', 'Neptune']\n",
            "['Mercury', 'Venus', 'Earth', 'Mars', 'Jupiter', 'Saturn', 'Uranus', 'Neptune']\n",
            "Length of Planets =  8\n",
            "Sorted  Planets =  ['Earth', 'Jupiter', 'Mars', 'Mercury', 'Neptune', 'Saturn', 'Uranus', 'Venus']\n",
            "Sum of Ints =  17\n",
            "Maximum of Ints =  7\n",
            "0\n",
            "3.0\n",
            "<built-in method bit_length of int object at 0xa40ce8>\n",
            "4\n",
            "Help on built-in function append:\n",
            "\n",
            "append(object, /) method of builtins.list instance\n",
            "    Append object to the end of the list.\n",
            "\n",
            "['Mercury', 'Venus', 'Earth', 'Mars', 'Jupiter', 'Saturn', 'Uranus', 'Neptune', 'Pluto']\n",
            "Pluto\n",
            "['Mercury', 'Venus', 'Earth', 'Mars', 'Jupiter', 'Saturn', 'Uranus', 'Neptune']\n",
            "2\n",
            "['Mercury', 'Venus', 'Earth', 'Mars', 'Jupiter', 'Saturn', 'Uranus', 'Neptune']\n",
            "Yes\n",
            "(1, 'string', True)\n",
            "(1, 8)\n",
            "numerator 1 \n",
            "denominator 8\n"
          ]
        }
      ]
    },
    {
      "cell_type": "markdown",
      "source": [
        "List can contains any type of data type including functions as well\n",
        "\n",
        "*   Slicing : to get last items in list, you can use - indexes\n",
        "*   Lists are mutable\n",
        "\n"
      ],
      "metadata": {
        "id": "D64b9i31r7KU"
      }
    },
    {
      "cell_type": "markdown",
      "source": [
        "List Exercise"
      ],
      "metadata": {
        "id": "Vnw1tBjpuBSE"
      }
    },
    {
      "cell_type": "code",
      "source": [
        "party_attendees = ['Adela', 'Fleda', 'Owen', 'May', 'Mona', 'Gilbert', 'Ford']\n",
        "\n",
        "\n",
        "def fashionably_late(arrivals, name):\n",
        "    \"\"\"Given an ordered list of arrivals to the party and a name, return whether the guest with that\n",
        "    name was fashionably late.\n",
        "    \"\"\"\n",
        "    index = arrivals.index(name)\n",
        "    return index >= len(arrivals)/2 and index !=len(arrivals)-1\n",
        "\n",
        "fashionably_late(party_attendees, 'May')"
      ],
      "metadata": {
        "colab": {
          "base_uri": "https://localhost:8080/"
        },
        "id": "lFtNS-AyuAtJ",
        "outputId": "db112ae6-f634-4b46-aa7d-668b03ec1cc9"
      },
      "execution_count": null,
      "outputs": [
        {
          "output_type": "execute_result",
          "data": {
            "text/plain": [
              "False"
            ]
          },
          "metadata": {},
          "execution_count": 67
        }
      ]
    },
    {
      "cell_type": "code",
      "source": [
        "planets = ['Mercury', 'Venus', 'Earth', 'Mars', 'Jupiter', 'Saturn', 'Uranus', 'Neptune']\n",
        "for planet in planets:\n",
        "    print( planet, end=' ')\n",
        "\n",
        "\n",
        "\n",
        "multiplicands = (2,2,2,3,3,5)\n",
        "product = 1\n",
        "for mult in multiplicands:\n",
        "    product = product * mult\n",
        "print(\"Product = \\n\",product)\n",
        "\n",
        "#  Different logics trying out\n",
        "\n",
        "s = 'steganograpHy is the practicE of conceaLing a file, message, image, or video within another fiLe, message, image, Or video.'\n",
        "for char in s:\n",
        "    if char.isupper():\n",
        "        print(char, end=\"\")\n",
        "print(\"\\n ++++++++++++++++++++++++++++++++++++++++++++++++++++++++++++++ \")\n",
        "\n",
        "# try range()\n",
        "for i in range(10):\n",
        "    print(\"\\n counter = \",i)\n",
        "\n",
        "print(\"\\n ++++++++++++++++++++++++++++++++++++++++++++++++++++++++++++++ \")\n",
        "# While loop\n",
        "x = 0\n",
        "while x < 10:\n",
        "  print(x,end=\" \")\n",
        "  x+=1\n",
        "print(\"\\n ++++++++++++++++++++++++++++++++++++++++++++++++++++++++++++++ \")\n",
        "\n",
        "#  List Comprehensions\n",
        "squares = [a**2 for a in range(10)]\n",
        "print(squares)\n",
        "print(\"\\n ++++++++++++++++++++++++++++++++++++++++++++++++++++++++++++++ \")\n",
        "arrayString = [b.upper() for b in planets]\n",
        "print(arrayString)\n",
        "\n",
        "short_planets = [planet for planet in planets if len(planet) < 6]\n",
        "print(short_planets)\n",
        "\n",
        "['Venus', 'Earth', 'Mars']\n",
        "\n",
        "print(\"\\n ++++++++++++++++++++++++++++++++++++++++++++++++++++++++++++++ \")\n",
        "[32 for planet in planets]\n",
        "\n",
        "nums=[5, -1, -2, 0, 3]\n",
        "count = len([ num for num in nums if num <0])\n",
        "print(\"Count of Negative numbers \",count)\n",
        "print(\"Sum of Negative numbers \", sum([ num for num in nums if num <0]))\n",
        "\n",
        "\n",
        "\n",
        "\n",
        "\n",
        "help(any)\n"
      ],
      "metadata": {
        "colab": {
          "base_uri": "https://localhost:8080/"
        },
        "id": "TIDXTjdSwen7",
        "outputId": "59bd72d0-e699-4af5-d26d-82a10869e82e"
      },
      "execution_count": 32,
      "outputs": [
        {
          "output_type": "stream",
          "name": "stdout",
          "text": [
            "Mercury Venus Earth Mars Jupiter Saturn Uranus Neptune Product = \n",
            " 360\n",
            "HELLO\n",
            " ++++++++++++++++++++++++++++++++++++++++++++++++++++++++++++++ \n",
            "\n",
            " counter =  0\n",
            "\n",
            " counter =  1\n",
            "\n",
            " counter =  2\n",
            "\n",
            " counter =  3\n",
            "\n",
            " counter =  4\n",
            "\n",
            " counter =  5\n",
            "\n",
            " counter =  6\n",
            "\n",
            " counter =  7\n",
            "\n",
            " counter =  8\n",
            "\n",
            " counter =  9\n",
            "\n",
            " ++++++++++++++++++++++++++++++++++++++++++++++++++++++++++++++ \n",
            "0 1 2 3 4 5 6 7 8 9 \n",
            " ++++++++++++++++++++++++++++++++++++++++++++++++++++++++++++++ \n",
            "[0, 1, 4, 9, 16, 25, 36, 49, 64, 81]\n",
            "\n",
            " ++++++++++++++++++++++++++++++++++++++++++++++++++++++++++++++ \n",
            "['MERCURY', 'VENUS', 'EARTH', 'MARS', 'JUPITER', 'SATURN', 'URANUS', 'NEPTUNE']\n",
            "['Venus', 'Earth', 'Mars']\n",
            "\n",
            " ++++++++++++++++++++++++++++++++++++++++++++++++++++++++++++++ \n",
            "Count of Negative numbers  2\n",
            "Sum of Negative numbers  -3\n",
            "Help on built-in function any in module builtins:\n",
            "\n",
            "any(iterable, /)\n",
            "    Return True if bool(x) is True for any x in the iterable.\n",
            "    \n",
            "    If the iterable is empty, return False.\n",
            "\n"
          ]
        }
      ]
    },
    {
      "cell_type": "markdown",
      "source": [
        "**Strings**"
      ],
      "metadata": {
        "id": "ga2BlYKU5y5r"
      }
    },
    {
      "cell_type": "code",
      "source": [
        "\n",
        "hello = \"hello\\nworld\"\n",
        "print(hello)\n",
        "\n",
        "triplequoted_hello = \"\"\"hello\n",
        "                                       Milton\n",
        "world\"\"\"\n",
        "print(triplequoted_hello)\n",
        "triplequoted_hello == hello\n",
        "\n",
        "planet = 'Pluto'\n",
        "planet[0]\n",
        "\n",
        "\n",
        "print(planet[-4:])\n",
        "\n",
        "print(len(planet))\n",
        "plan = 'Pluto'\n",
        "[char+'! ' for char in plan]\n",
        "\n",
        "\n",
        "claim = \"Pluto is a planet!\"\n",
        "claim.upper()\n",
        "\n",
        "print(claim.split())\n",
        "print(claim.split(\"!\"))\n",
        "print(claim.split(\"a\"))\n",
        "print(claim.split(\" a \"))\n",
        "\n",
        "\n",
        "datestr = '1956-01-31'\n",
        "year, month, day = datestr.split('-')\n",
        "'/'.join([month, day, year])\n",
        "\n",
        "position = 9\n",
        "planet + \", you'll always be the \" + str(position) + \"th planet to me.\"\n",
        "\n",
        "\"{} you'll always be the {}th planet to me. So love you {}\".format(planet, position, 3000)\n",
        "\n",
        "\n",
        "pluto_mass= 1.303 * 10**22\n",
        "earth_mass = 5.9722 * 10**24\n",
        "population = 52910390\n",
        "\"{} weighs about {:.2} kilograms ({:.3%} of Earth's mass). It is home to {:,} Plutonians.\".format (planet, pluto_mass, pluto_mass / earth_mass, population)\n",
        "\n",
        "\n"
      ],
      "metadata": {
        "colab": {
          "base_uri": "https://localhost:8080/",
          "height": 226
        },
        "id": "R898DPet5yiM",
        "outputId": "d10408f6-26a8-485b-f32c-720eaae315f4"
      },
      "execution_count": 37,
      "outputs": [
        {
          "output_type": "stream",
          "name": "stdout",
          "text": [
            "hello\n",
            "world\n",
            "hello\n",
            "                                       Milton\n",
            "world\n",
            "luto\n",
            "5\n",
            "['Pluto', 'is', 'a', 'planet!']\n",
            "['Pluto is a planet', '']\n",
            "['Pluto is ', ' pl', 'net!']\n",
            "['Pluto is', 'planet!']\n"
          ]
        },
        {
          "output_type": "execute_result",
          "data": {
            "text/plain": [
              "\"Pluto weighs about 1.3e+22 kilograms (0.218% of Earth's mass). It is home to 52,910,390 Plutonians.\""
            ],
            "application/vnd.google.colaboratory.intrinsic+json": {
              "type": "string"
            }
          },
          "metadata": {},
          "execution_count": 37
        }
      ]
    },
    {
      "cell_type": "markdown",
      "source": [
        "**Dictionaries (Maps)**"
      ],
      "metadata": {
        "id": "QbFaiVt4HUH3"
      }
    },
    {
      "cell_type": "code",
      "source": [
        "# Define a Dictionary\n",
        "numbers={'one':1,'two':2,'three':3}\n",
        "numbers['ten'] = 45\n",
        "print(numbers)\n",
        "\n",
        "\n",
        "planets = ['Mercury', 'Venus', 'Earth', 'Mars', 'Jupiter', 'Saturn', 'Uranus', 'Neptune']\n",
        "planet_map = {planet : planet[0]   for planet in planets}\n",
        "print(planet_map)\n",
        "\n",
        "\n",
        "print(\"Venus\" in planet_map)\n",
        "print(\"Earth\" in planet_map)\n",
        "\n",
        "for  key  in  planet_map:\n",
        "  print( \"{} begins with {}\".format(planet_map[key],key))\n",
        "\n",
        "print(\"\\n\")\n",
        "\n",
        "for planet, initial in planet_map.items():\n",
        "  print(\"{} begins with \\\"{}\\\"\".format(planet,initial))\n",
        "\n"
      ],
      "metadata": {
        "colab": {
          "base_uri": "https://localhost:8080/"
        },
        "id": "lsY7tk-mHWCT",
        "outputId": "ba92ea3c-c8c8-4fd7-ee9a-c88041f47a75"
      },
      "execution_count": 49,
      "outputs": [
        {
          "output_type": "stream",
          "name": "stdout",
          "text": [
            "{'one': 1, 'two': 2, 'three': 3, 'ten': 45}\n",
            "{'Mercury': 'M', 'Venus': 'V', 'Earth': 'E', 'Mars': 'M', 'Jupiter': 'J', 'Saturn': 'S', 'Uranus': 'U', 'Neptune': 'N'}\n",
            "True\n",
            "True\n",
            "M begins with Mercury\n",
            "V begins with Venus\n",
            "E begins with Earth\n",
            "M begins with Mars\n",
            "J begins with Jupiter\n",
            "S begins with Saturn\n",
            "U begins with Uranus\n",
            "N begins with Neptune\n",
            "\n",
            "\n",
            "Mercury begins with \"M\"\n",
            "Venus begins with \"V\"\n",
            "Earth begins with \"E\"\n",
            "Mars begins with \"M\"\n",
            "Jupiter begins with \"J\"\n",
            "Saturn begins with \"S\"\n",
            "Uranus begins with \"U\"\n",
            "Neptune begins with \"N\"\n"
          ]
        }
      ]
    }
  ]
}