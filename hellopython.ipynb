{
  "nbformat": 4,
  "nbformat_minor": 0,
  "metadata": {
    "colab": {
      "provenance": [],
      "toc_visible": true,
      "authorship_tag": "ABX9TyNmvCcC/V3hF5/1AvCVpc3n",
      "include_colab_link": true
    },
    "kernelspec": {
      "name": "python3",
      "display_name": "Python 3"
    },
    "language_info": {
      "name": "python"
    }
  },
  "cells": [
    {
      "cell_type": "markdown",
      "metadata": {
        "id": "view-in-github",
        "colab_type": "text"
      },
      "source": [
        "<a href=\"https://colab.research.google.com/github/YasasRavindu/PythonColab/blob/main/hellopython.ipynb\" target=\"_parent\"><img src=\"https://colab.research.google.com/assets/colab-badge.svg\" alt=\"Open In Colab\"/></a>"
      ]
    },
    {
      "cell_type": "markdown",
      "source": [
        "# Day 1 - Practices\n"
      ],
      "metadata": {
        "id": "KyUUWL7m99lM"
      }
    },
    {
      "cell_type": "code",
      "source": [
        "spam_amount = 0\n",
        "print(spam_amount)\n",
        "\n",
        "# Ordering Spam, egg, Spam, Spam, bacon and Spam (4 more servings of Spam)\n",
        "spam_amount = spam_amount + 4\n",
        "if spam_amount > 0:\n",
        "     print(\"But I don't want ANY spam!\")\n",
        "     print(\"BI m line 2\")\n",
        "\n",
        "viking_song = \"Spam \" * spam_amount\n",
        "print(viking_song)\n",
        "\n",
        "spam_amount = 0\n",
        "mil=0.1;\n",
        "type(mil)\n",
        "\n",
        "# type(19.95)\n",
        "\n",
        "print(5 / 2)\n",
        "print(6 / 2)\n",
        "print(5 // 2)\n",
        "print(6 // 2)\n"
      ],
      "metadata": {
        "colab": {
          "base_uri": "https://localhost:8080/"
        },
        "id": "QpFnSPwecU44",
        "outputId": "3efab873-efee-4cb4-86a3-dafec49c838c"
      },
      "execution_count": 1,
      "outputs": [
        {
          "output_type": "stream",
          "name": "stdout",
          "text": [
            "0\n",
            "But I don't want ANY spam!\n",
            "BI m line 2\n",
            "Spam Spam Spam Spam \n",
            "2.5\n",
            "3.0\n",
            "2\n",
            "3\n"
          ]
        }
      ]
    },
    {
      "cell_type": "code",
      "source": [
        "a =10\n",
        "b=10\n",
        "\n",
        "print(a ** b)"
      ],
      "metadata": {
        "colab": {
          "base_uri": "https://localhost:8080/"
        },
        "id": "FN9ZiSUkrHnF",
        "outputId": "f0aabcff-f38c-434f-b9a5-bffc86d2fc92"
      },
      "execution_count": 2,
      "outputs": [
        {
          "output_type": "stream",
          "name": "stdout",
          "text": [
            "10000000000\n"
          ]
        }
      ]
    },
    {
      "cell_type": "code",
      "source": [
        "def calFunc(num1,num2):\n",
        "      print(num1)\n",
        "      print(num2)\n",
        "      return num1+num2;\n",
        "\n",
        "\n",
        "print (calFunc(10,20))"
      ],
      "metadata": {
        "colab": {
          "base_uri": "https://localhost:8080/"
        },
        "id": "vHn6XUtb8YM6",
        "outputId": "e714176a-5db9-4b21-e01c-273742683848"
      },
      "execution_count": 3,
      "outputs": [
        {
          "output_type": "stream",
          "name": "stdout",
          "text": [
            "10\n",
            "20\n",
            "30\n"
          ]
        }
      ]
    }
  ]
}